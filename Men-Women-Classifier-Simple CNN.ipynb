{
 "cells": [
  {
   "cell_type": "markdown",
   "metadata": {},
   "source": [
    "The problem is to classify the pictures of men and women. The dataset has been downloaded from kaggle\n",
    "https://www.kaggle.com/playlist/men-women-classification."
   ]
  },
  {
   "cell_type": "markdown",
   "metadata": {},
   "source": [
    "## Importing libraries"
   ]
  },
  {
   "cell_type": "code",
   "execution_count": 21,
   "metadata": {},
   "outputs": [],
   "source": [
    "import numpy as np\n",
    "import pandas as pd\n",
    "import matplotlib.pyplot as plt\n",
    "import os"
   ]
  },
  {
   "cell_type": "code",
   "execution_count": 2,
   "metadata": {},
   "outputs": [
    {
     "name": "stderr",
     "output_type": "stream",
     "text": [
      "Using TensorFlow backend.\n"
     ]
    }
   ],
   "source": [
    "import keras "
   ]
  },
  {
   "cell_type": "code",
   "execution_count": 23,
   "metadata": {},
   "outputs": [],
   "source": [
    "## keras imports\n",
    "from keras.preprocessing import image\n",
    "from keras.models import Sequential\n",
    "from keras.layers import Convolution2D\n",
    "from keras.layers import MaxPooling2D\n",
    "from keras.layers import Flatten\n",
    "from keras.layers import Dense\n",
    "from keras.layers import Dropout"
   ]
  },
  {
   "cell_type": "markdown",
   "metadata": {},
   "source": [
    "## Initializing the convolutional network"
   ]
  },
  {
   "cell_type": "code",
   "execution_count": 4,
   "metadata": {},
   "outputs": [],
   "source": [
    "classifier=Sequential()"
   ]
  },
  {
   "cell_type": "markdown",
   "metadata": {},
   "source": [
    "The classification is done using a network which has a convolution layer followed by max pooling, another convolution layer and max pooling layer. Then it is flattened into a single dimensional vector using flatten and we deepen the network by adding another fully connected layer which is concluded by the output layer."
   ]
  },
  {
   "cell_type": "markdown",
   "metadata": {},
   "source": [
    "## Addition of layers to the network"
   ]
  },
  {
   "cell_type": "code",
   "execution_count": 4,
   "metadata": {},
   "outputs": [],
   "source": [
    "## Adding layers\n",
    "classifier.add(Convolution2D(32,(3,3),input_shape=(64,64,3),activation='relu'))\n",
    "classifier.add(MaxPooling2D(pool_size=(2,2)))\n",
    "classifier.add(Convolution2D(64,(3,3),activation='relu'))\n",
    "classifier.add(MaxPooling2D(pool_size=(2,2)))"
   ]
  },
  {
   "cell_type": "code",
   "execution_count": 5,
   "metadata": {},
   "outputs": [],
   "source": [
    "## Flattening the feature map to a single column vector\n",
    "classifier.add(Flatten())"
   ]
  },
  {
   "cell_type": "code",
   "execution_count": 6,
   "metadata": {},
   "outputs": [],
   "source": [
    "## Addition of fully connected layers \n",
    "classifier.add(Dense(units=128,activation='relu'))"
   ]
  },
  {
   "cell_type": "code",
   "execution_count": 7,
   "metadata": {},
   "outputs": [],
   "source": [
    "## Addition of the output layer\n",
    "classifier.add(Dense(units=1,activation='sigmoid'))"
   ]
  },
  {
   "cell_type": "markdown",
   "metadata": {},
   "source": [
    "## Compiling the model"
   ]
  },
  {
   "cell_type": "markdown",
   "metadata": {},
   "source": [
    "To address this problem, Adam optimization is used. Since it is a binary classification problem the loss is set as binary cross entropy loss. The metrics is accuracy."
   ]
  },
  {
   "cell_type": "code",
   "execution_count": 8,
   "metadata": {},
   "outputs": [],
   "source": [
    "#compiling the network\n",
    "## Binary cross entropy is used to calculate the loss\n",
    "classifier.compile(optimizer='adam',loss='binary_crossentropy',metrics=['accuracy'])"
   ]
  },
  {
   "cell_type": "code",
   "execution_count": 9,
   "metadata": {},
   "outputs": [],
   "source": [
    "from keras.preprocessing.image import ImageDataGenerator"
   ]
  },
  {
   "cell_type": "markdown",
   "metadata": {},
   "source": [
    "Since the dataset is small we try to augment the data. Initially 1000 images of men and 1912 of women were present in the training data and in the test data 418 images of men and 915 images of women were present. The data is augmented so as to increase the training data"
   ]
  },
  {
   "cell_type": "code",
   "execution_count": 10,
   "metadata": {},
   "outputs": [],
   "source": [
    "train_datagen = ImageDataGenerator(\n",
    "        rescale=1./255,\n",
    "        shear_range=0.2,\n",
    "        zoom_range=0.2,\n",
    "        horizontal_flip=True)\n",
    "\n",
    "test_datagen = ImageDataGenerator(rescale=1./255)"
   ]
  },
  {
   "cell_type": "code",
   "execution_count": 11,
   "metadata": {},
   "outputs": [
    {
     "name": "stdout",
     "output_type": "stream",
     "text": [
      "Found 2891 images belonging to 2 classes.\n"
     ]
    }
   ],
   "source": [
    "training_set = train_datagen.flow_from_directory(\n",
    "        r\"C:\\Users\\Akshaya\\Desktop\\python-great lakes\\NN and Deep Learning\\traindata\\traindata\",\n",
    "        target_size=(64, 64),\n",
    "        batch_size=32,\n",
    "        class_mode='binary')"
   ]
  },
  {
   "cell_type": "code",
   "execution_count": 12,
   "metadata": {},
   "outputs": [
    {
     "name": "stdout",
     "output_type": "stream",
     "text": [
      "Found 1330 images belonging to 2 classes.\n"
     ]
    }
   ],
   "source": [
    "test_set = test_datagen.flow_from_directory(\n",
    "        r\"C:\\Users\\Akshaya\\Desktop\\python-great lakes\\NN and Deep Learning\\testdata\\testdata\",\n",
    "        target_size=(64, 64),\n",
    "        batch_size=32,\n",
    "        class_mode='binary')"
   ]
  },
  {
   "cell_type": "markdown",
   "metadata": {},
   "source": [
    "## Fitting the model to our dataset"
   ]
  },
  {
   "cell_type": "markdown",
   "metadata": {},
   "source": [
    "The model is fit to our dataset , the weights are updated using full batch gradient descent. An epoch size of 10 is taken."
   ]
  },
  {
   "cell_type": "code",
   "execution_count": 14,
   "metadata": {},
   "outputs": [
    {
     "name": "stdout",
     "output_type": "stream",
     "text": [
      "Epoch 1/10\n",
      "2891/2891 [==============================] - 3109s 1s/step - loss: 0.3943 - accuracy: 0.8104 - val_loss: 0.2792 - val_accuracy: 0.8458\n",
      "Epoch 2/10\n",
      "2891/2891 [==============================] - 3102s 1s/step - loss: 0.1094 - accuracy: 0.9597 - val_loss: 0.6588 - val_accuracy: 0.8519\n",
      "Epoch 3/10\n",
      "2891/2891 [==============================] - 3861s 1s/step - loss: 0.0470 - accuracy: 0.9844 - val_loss: 1.1493 - val_accuracy: 0.8609\n",
      "Epoch 4/10\n",
      "2891/2891 [==============================] - 3764s 1s/step - loss: 0.0329 - accuracy: 0.9891 - val_loss: 0.5541 - val_accuracy: 0.8745\n",
      "Epoch 5/10\n",
      "2891/2891 [==============================] - 3555s 1s/step - loss: 0.0266 - accuracy: 0.9913 - val_loss: 2.4340 - val_accuracy: 0.8797\n",
      "Epoch 6/10\n",
      "2891/2891 [==============================] - 6003s 2s/step - loss: 0.0219 - accuracy: 0.9928 - val_loss: 1.1405 - val_accuracy: 0.8812\n",
      "Epoch 7/10\n",
      "2890/2891 [============================>.] - ETA: 1s - loss: 0.0176 - accuracy: 0.9943"
     ]
    },
    {
     "name": "stderr",
     "output_type": "stream",
     "text": [
      "C:\\Users\\Akshaya\\Anaconda3\\lib\\site-packages\\keras\\utils\\data_utils.py:616: UserWarning: The input 23 could not be retrieved. It could be because a worker has died.\n",
      "  UserWarning)\n",
      "C:\\Users\\Akshaya\\Anaconda3\\lib\\site-packages\\keras\\utils\\data_utils.py:616: UserWarning: The input 24 could not be retrieved. It could be because a worker has died.\n",
      "  UserWarning)\n"
     ]
    },
    {
     "name": "stdout",
     "output_type": "stream",
     "text": [
      "2891/2891 [==============================] - 25865s 9s/step - loss: 0.0176 - accuracy: 0.9943 - val_loss: 1.2844 - val_accuracy: 0.8495\n",
      "Epoch 8/10\n",
      "2891/2891 [==============================] - 3858s 1s/step - loss: 0.0177 - accuracy: 0.9943 - val_loss: 4.4719 - val_accuracy: 0.8564\n",
      "Epoch 9/10\n",
      "2891/2891 [==============================] - 3937s 1s/step - loss: 0.0148 - accuracy: 0.9951 - val_loss: 2.5369 - val_accuracy: 0.8675\n",
      "Epoch 10/10\n",
      "2891/2891 [==============================] - 3240s 1s/step - loss: 0.0150 - accuracy: 0.9954 - val_loss: 1.6130 - val_accuracy: 0.8571\n"
     ]
    },
    {
     "data": {
      "text/plain": [
       "<keras.callbacks.callbacks.History at 0x2ac6a7c7160>"
      ]
     },
     "execution_count": 14,
     "metadata": {},
     "output_type": "execute_result"
    }
   ],
   "source": [
    "## The model is fit the augmented data.\n",
    "classifier.fit_generator(\n",
    "        training_set,\n",
    "        steps_per_epoch=2891,\n",
    "        epochs=10,\n",
    "        validation_data=test_set,\n",
    "        validation_steps=1330)"
   ]
  },
  {
   "cell_type": "markdown",
   "metadata": {},
   "source": [
    "### The base model is overfitting. We try to apply dropout regularisation "
   ]
  },
  {
   "cell_type": "markdown",
   "metadata": {},
   "source": [
    "Dropout regularisation makes sure during the training not all the neurons are used. In our case 20% of the total number of neurons is dropped. But during testing all the neurons are used."
   ]
  },
  {
   "cell_type": "code",
   "execution_count": 6,
   "metadata": {},
   "outputs": [],
   "source": [
    "## Adding layers\n",
    "classifier.add(Convolution2D(32,(3,3),input_shape=(64,64,3),activation='relu'))\n",
    "classifier.add(MaxPooling2D(pool_size=(2,2)))\n",
    "classifier.add(Convolution2D(64,(3,3),activation='relu'))\n",
    "classifier.add(Dropout(0.20))\n",
    "classifier.add(MaxPooling2D(pool_size=(2,2)))\n",
    "classifier.add(Flatten())\n",
    "classifier.add(Dropout(0.20))"
   ]
  },
  {
   "cell_type": "code",
   "execution_count": 7,
   "metadata": {},
   "outputs": [],
   "source": [
    "classifier.add(Dense(units=128,activation='relu'))\n",
    "classifier.add(Dense(units=1,activation='sigmoid'))"
   ]
  },
  {
   "cell_type": "code",
   "execution_count": 8,
   "metadata": {},
   "outputs": [],
   "source": [
    "classifier.compile(optimizer='adam',loss='binary_crossentropy',metrics=['accuracy'])"
   ]
  },
  {
   "cell_type": "code",
   "execution_count": 9,
   "metadata": {},
   "outputs": [],
   "source": [
    "from keras.preprocessing.image import ImageDataGenerator"
   ]
  },
  {
   "cell_type": "code",
   "execution_count": 10,
   "metadata": {},
   "outputs": [],
   "source": [
    "train_datagen = ImageDataGenerator(\n",
    "        rescale=1./255,\n",
    "        shear_range=0.2,\n",
    "        zoom_range=0.2,\n",
    "        horizontal_flip=True)\n",
    "\n",
    "test_datagen = ImageDataGenerator(rescale=1./255)"
   ]
  },
  {
   "cell_type": "code",
   "execution_count": 11,
   "metadata": {},
   "outputs": [
    {
     "name": "stdout",
     "output_type": "stream",
     "text": [
      "Found 2891 images belonging to 2 classes.\n"
     ]
    }
   ],
   "source": [
    "training_set = train_datagen.flow_from_directory(\n",
    "        r\"C:\\Users\\Akshaya\\Desktop\\python-great lakes\\NN and Deep Learning\\traindata\\traindata\",\n",
    "        target_size=(64, 64),\n",
    "        batch_size=32,\n",
    "        class_mode='binary')"
   ]
  },
  {
   "cell_type": "code",
   "execution_count": 12,
   "metadata": {},
   "outputs": [
    {
     "name": "stdout",
     "output_type": "stream",
     "text": [
      "Found 1330 images belonging to 2 classes.\n"
     ]
    }
   ],
   "source": [
    "test_set = test_datagen.flow_from_directory(\n",
    "        r\"C:\\Users\\Akshaya\\Desktop\\python-great lakes\\NN and Deep Learning\\testdata\\testdata\",\n",
    "        target_size=(64, 64),\n",
    "        batch_size=32,\n",
    "        class_mode='binary')"
   ]
  },
  {
   "cell_type": "code",
   "execution_count": 33,
   "metadata": {},
   "outputs": [
    {
     "name": "stdout",
     "output_type": "stream",
     "text": [
      "Epoch 1/15\n",
      "2891/2891 [==============================] - 3304s 1s/step - loss: 0.0167 - accuracy: 0.9947 - val_loss: 0.2488 - val_accuracy: 0.8586\n",
      "Epoch 2/15\n",
      "2891/2891 [==============================] - 3353s 1s/step - loss: 0.0172 - accuracy: 0.9947 - val_loss: 0.0982 - val_accuracy: 0.8925\n",
      "Epoch 3/15\n",
      "2891/2891 [==============================] - 3204s 1s/step - loss: 0.0153 - accuracy: 0.9951 - val_loss: 0.1078 - val_accuracy: 0.8686\n",
      "Epoch 4/15\n",
      "2891/2891 [==============================] - 3161s 1s/step - loss: 0.0143 - accuracy: 0.9954 - val_loss: 1.1983 - val_accuracy: 0.8818\n",
      "Epoch 5/15\n",
      "2891/2891 [==============================] - 3114s 1s/step - loss: 0.0141 - accuracy: 0.9955 - val_loss: 0.3807 - val_accuracy: 0.9053\n",
      "Epoch 6/15\n",
      "2891/2891 [==============================] - 3411s 1s/step - loss: 0.0125 - accuracy: 0.9959 - val_loss: 1.3503 - val_accuracy: 0.8902\n",
      "Epoch 7/15\n",
      "2891/2891 [==============================] - 3901s 1s/step - loss: 0.0129 - accuracy: 0.9959 - val_loss: 0.1074 - val_accuracy: 0.8746\n",
      "Epoch 8/15\n",
      "2891/2891 [==============================] - 3046s 1s/step - loss: 0.0106 - accuracy: 0.9966 - val_loss: 1.7632 - val_accuracy: 0.9127\n",
      "Epoch 9/15\n",
      "2891/2891 [==============================] - 3009s 1s/step - loss: 0.0128 - accuracy: 0.9962 - val_loss: 1.3277 - val_accuracy: 0.8797\n",
      "Epoch 10/15\n",
      "2891/2891 [==============================] - 3008s 1s/step - loss: 0.0093 - accuracy: 0.9972 - val_loss: 0.8812 - val_accuracy: 0.8833\n",
      "Epoch 11/15\n",
      "2891/2891 [==============================] - 3004s 1s/step - loss: 0.0104 - accuracy: 0.9967 - val_loss: 0.6822 - val_accuracy: 0.8888\n",
      "Epoch 12/15\n",
      "2891/2891 [==============================] - 2998s 1s/step - loss: 0.0113 - accuracy: 0.9965 - val_loss: 0.2957 - val_accuracy: 0.8961\n",
      "Epoch 13/15\n",
      "2891/2891 [==============================] - 3003s 1s/step - loss: 0.0100 - accuracy: 0.9971 - val_loss: 2.5733 - val_accuracy: 0.8946\n",
      "Epoch 14/15\n",
      "2891/2891 [==============================] - 3011s 1s/step - loss: 0.0083 - accuracy: 0.9972 - val_loss: 1.2900 - val_accuracy: 0.8827\n",
      "Epoch 15/15\n",
      "2891/2891 [==============================] - 2999s 1s/step - loss: 0.0088 - accuracy: 0.9971 - val_loss: 0.6511 - val_accuracy: 0.8887\n"
     ]
    }
   ],
   "source": [
    "result=classifier.fit_generator(\n",
    "        training_set,\n",
    "        steps_per_epoch=2891,\n",
    "        epochs=15,\n",
    "        validation_data=test_set,\n",
    "        validation_steps=1330)"
   ]
  },
  {
   "cell_type": "code",
   "execution_count": 36,
   "metadata": {},
   "outputs": [
    {
     "data": {
      "image/png": "[encoded data removed]",
      "text/plain": [
       "<Figure size 432x288 with 1 Axes>"
      ]
     },
     "metadata": {
      "needs_background": "light"
     },
     "output_type": "display_data"
    }
   ],
   "source": [
    "plt.plot(result.history['accuracy'])\n",
    "plt.plot(result.history['val_accuracy'])\n",
    "plt.title('Model Accuracy')\n",
    "plt.ylabel('accuracy')\n",
    "plt.xlabel('epoch')\n",
    "plt.legend(['train', 'val'], loc=0)\n",
    "plt.show()"
   ]
  },
  {
   "cell_type": "markdown",
   "metadata": {},
   "source": [
    "The model is still overfitting. We can overcome this problem by using different values for dropout or even a  different type of regularisation. We can also get and train on more data. The other solution is to change the architecture of the neural network."
   ]
  },
  {
   "cell_type": "markdown",
   "metadata": {},
   "source": [
    "## Model Summary"
   ]
  },
  {
   "cell_type": "code",
   "execution_count": 35,
   "metadata": {},
   "outputs": [
    {
     "name": "stdout",
     "output_type": "stream",
     "text": [
      "Model: \"sequential_1\"\n",
      "_________________________________________________________________\n",
      "Layer (type)                 Output Shape              Param #   \n",
      "=================================================================\n",
      "conv2d_1 (Conv2D)            (None, 62, 62, 32)        896       \n",
      "_________________________________________________________________\n",
      "max_pooling2d_1 (MaxPooling2 (None, 31, 31, 32)        0         \n",
      "_________________________________________________________________\n",
      "conv2d_2 (Conv2D)            (None, 29, 29, 64)        18496     \n",
      "_________________________________________________________________\n",
      "dropout_1 (Dropout)          (None, 29, 29, 64)        0         \n",
      "_________________________________________________________________\n",
      "max_pooling2d_2 (MaxPooling2 (None, 14, 14, 64)        0         \n",
      "_________________________________________________________________\n",
      "flatten_1 (Flatten)          (None, 12544)             0         \n",
      "_________________________________________________________________\n",
      "dropout_2 (Dropout)          (None, 12544)             0         \n",
      "_________________________________________________________________\n",
      "dense_1 (Dense)              (None, 128)               1605760   \n",
      "_________________________________________________________________\n",
      "dense_2 (Dense)              (None, 1)                 129       \n",
      "=================================================================\n",
      "Total params: 1,625,281\n",
      "Trainable params: 1,625,281\n",
      "Non-trainable params: 0\n",
      "_________________________________________________________________\n"
     ]
    }
   ],
   "source": [
    "classifier.summary()"
   ]
  },
  {
   "cell_type": "code",
   "execution_count": 42,
   "metadata": {},
   "outputs": [],
   "source": [
    "## For more predictions :\n",
    "test_image=image.load_img('',target_size=(64,64)) #load image for predicting\n",
    "test_image=image.img_to_array(test_image)\n",
    "test_image=np.expand_dims(test_image,axis=0)\n",
    "result=classifier.predict(test_image)"
   ]
  },
  {
   "cell_type": "code",
   "execution_count": 43,
   "metadata": {},
   "outputs": [
    {
     "data": {
      "text/plain": [
       "{'men': 0, 'women': 1}"
      ]
     },
     "execution_count": 43,
     "metadata": {},
     "output_type": "execute_result"
    }
   ],
   "source": [
    "training_set.class_indices"
   ]
  },
  {
   "cell_type": "code",
   "execution_count": 45,
   "metadata": {},
   "outputs": [],
   "source": [
    "## Using the prediction we can identify if the loaded image is that of a man or woman"
   ]
  }
 ],
 "metadata": {
  "kernelspec": {
   "display_name": "Python 3",
   "language": "python",
   "name": "python3"
  },
  "language_info": {
   "codemirror_mode": {
    "name": "ipython",
    "version": 3
   },
   "file_extension": ".py",
   "mimetype": "text/x-python",
   "name": "python",
   "nbconvert_exporter": "python",
   "pygments_lexer": "ipython3",
   "version": "3.7.3"
  }
 },
 "nbformat": 4,
 "nbformat_minor": 2
}
